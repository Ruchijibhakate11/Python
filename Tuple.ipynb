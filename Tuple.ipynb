{
 "cells": [
  {
   "cell_type": "markdown",
   "id": "83c278ef-aac6-4175-a25a-3dff08934912",
   "metadata": {},
   "source": [
    "### count()---Returns the number of times specified value occurs in tuple"
   ]
  },
  {
   "cell_type": "code",
   "execution_count": 5,
   "id": "2055387e-f5b3-43d3-88d8-f379594a2e40",
   "metadata": {},
   "outputs": [
    {
     "data": {
      "text/plain": [
       "3"
      ]
     },
     "execution_count": 5,
     "metadata": {},
     "output_type": "execute_result"
    }
   ],
   "source": [
    "tuple=(1,2,3,4,2,3,2)\n",
    "tuple.count(2)"
   ]
  },
  {
   "cell_type": "markdown",
   "id": "667dc799-73c3-4a69-aab6-649ae9519103",
   "metadata": {},
   "source": [
    "### index()--searches the tuple for a specified value and returns the position of where it was found"
   ]
  },
  {
   "cell_type": "code",
   "execution_count": 9,
   "id": "f70e969e-8bf7-406d-b9ac-416798c0c845",
   "metadata": {},
   "outputs": [
    {
     "data": {
      "text/plain": [
       "2"
      ]
     },
     "execution_count": 9,
     "metadata": {},
     "output_type": "execute_result"
    }
   ],
   "source": [
    "tuple=(2,3,4,2,1,4,2)      # returns the index of the given value ehich appears the first in the tuple\n",
    "tuple.index(4)"
   ]
  }
 ],
 "metadata": {
  "kernelspec": {
   "display_name": "Python 3 (ipykernel)",
   "language": "python",
   "name": "python3"
  },
  "language_info": {
   "codemirror_mode": {
    "name": "ipython",
    "version": 3
   },
   "file_extension": ".py",
   "mimetype": "text/x-python",
   "name": "python",
   "nbconvert_exporter": "python",
   "pygments_lexer": "ipython3",
   "version": "3.12.4"
  }
 },
 "nbformat": 4,
 "nbformat_minor": 5
}
